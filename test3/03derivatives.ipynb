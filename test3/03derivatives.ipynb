{
 "cells": [
  {
   "cell_type": "markdown",
   "metadata": {},
   "source": [
    "# Derivatives and Applications\n",
    "\n",
    "## Derive the rules of differentiation for polynomial, trigonometric, and logarithmic functions using the formal definition of derivative\n",
    "\n",
    "## Interpret the concept of derivative geometrically, numerically, and analytically (i.e., slope of the tangent, limit of difference quotients, extrema, Newton's method, and instantaneous rate of change)\n",
    "\n",
    "## Interpret both continuous and differentiable functions geometrically and analytically and apply Rolle's theorem, the mean value theorem, and L'Hôpital's rule\n",
    "\n",
    "## Use the derivative to solve rectilinear motion, related rate, and optimization problems\n",
    "\n",
    "## Use the derivative to analyze functions and planar curves (e.g., maxima, minima, inflection points, concavity)\n",
    "\n",
    "## Solve separable first-order differential equations and apply them to growth and decay problems"
   ]
  },
  {
   "cell_type": "code",
   "execution_count": null,
   "metadata": {},
   "outputs": [],
   "source": []
  }
 ],
 "metadata": {
  "language_info": {
   "name": "python"
  }
 },
 "nbformat": 4,
 "nbformat_minor": 2
}
