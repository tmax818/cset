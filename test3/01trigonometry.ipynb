{
 "cells": [
  {
   "cell_type": "markdown",
   "metadata": {},
   "source": [
    "# Trigonometry"
   ]
  },
  {
   "cell_type": "markdown",
   "metadata": {},
   "source": [
    "## Prove that the Pythagorean Theorem is equivalent to the trigonometric identity $sin^2x + cos^2x= 1$ and that this identity leads to $1 + tan^2x = sec^2x$ and $1 + cot^2x = csc^2x$"
   ]
  },
  {
   "cell_type": "code",
   "execution_count": null,
   "metadata": {
    "vscode": {
     "languageId": "plaintext"
    }
   },
   "outputs": [],
   "source": []
  },
  {
   "cell_type": "markdown",
   "metadata": {},
   "source": [
    "## Prove and apply the sine, cosine, and tangent sum formulas for all real values\n",
    "\n",
    "## Analyze properties of trigonometric functions in a variety of ways (e.g., graphing and solving problems, using the unit circle)\n",
    "\n",
    "## Apply the definitions and properties of inverse trigonometric functions (i.e., arcsin, arccos, and arctan)\n",
    "\n",
    "## Apply polar representations of complex numbers (e.g., De Moivre's Theorem)\n",
    "\n",
    "## Model periodic phenomena with periodic functions\n",
    "\n",
    "## Recognize equivalent identities, including applications of the half-angle and double-angle formulas for sines and cosines"
   ]
  }
 ],
 "metadata": {
  "language_info": {
   "name": "python"
  }
 },
 "nbformat": 4,
 "nbformat_minor": 2
}
