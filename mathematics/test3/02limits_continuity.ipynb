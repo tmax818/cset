{
 "cells": [
  {
   "cell_type": "markdown",
   "metadata": {},
   "source": [
    "# Limits and Continuity\n",
    "\n",
    "### Limit\n",
    "\n",
    "> The limit of a function is the value($L$) that the dependent variable $f(x)$ approaches as the independent variable approaches some fixed value($a$).\n",
    "\n",
    "$$\\lim_{x \\to a} f(x) = L$$\n",
    "\n",
    "The limit of $f(x)$ does not depend on the value of $f(c)$.\n",
    "\n",
    "\n",
    "<!-- <img src=\"./edwards-limit.png\" width=\"300\"> -->"
   ]
  },
  {
   "cell_type": "markdown",
   "metadata": {},
   "source": [
    "## Derive basic properties of limits and continuity, including the Sum, Difference, Product, Constant Multiple, and Quotient Rules, using the formal definition of a limit"
   ]
  },
  {
   "cell_type": "markdown",
   "metadata": {},
   "source": [
    "\n",
    "## Show that a polynomial function is continuous at a point\n",
    "\n",
    "for a function $f(x)$ to be continuous at x = c, then:\n",
    "\n",
    "- $f(c)$ is defined\n",
    "- limit exists \n",
    "- they must be equal"
   ]
  },
  {
   "cell_type": "markdown",
   "metadata": {},
   "source": [
    "## Apply the [intermediate value theorem](https://www.mathsisfun.com/algebra/intermediate-value-theorem.html), using the geometric implications of [continuity](https://www.mathsisfun.com/calculus/continuity.html)\n",
    "\n"
   ]
  },
  {
   "cell_type": "markdown",
   "metadata": {},
   "source": []
  }
 ],
 "metadata": {
  "language_info": {
   "name": "python"
  }
 },
 "nbformat": 4,
 "nbformat_minor": 2
}
