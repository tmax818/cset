{
 "cells": [
  {
   "cell_type": "markdown",
   "metadata": {},
   "source": [
    "# Derivatives and Applications\n",
    "\n",
    "\n"
   ]
  },
  {
   "cell_type": "markdown",
   "metadata": {},
   "source": [
    "## Derive the [rules of differentiation] for polynomial, trigonometric, and logarithmic functions using the formal definition of derivative\n",
    "\n",
    "proofs are in [Edwards]()"
   ]
  },
  {
   "cell_type": "markdown",
   "metadata": {},
   "source": [
    "## Interpret the concept of derivative geometrically, numerically, and analytically (i.e., slope of the tangent, limit of difference quotients, extrema, [Newton's method](), and instantaneous rate of change)"
   ]
  },
  {
   "cell_type": "markdown",
   "metadata": {},
   "source": [
    "## Interpret both continuous and differentiable functions geometrically and analytically and apply Rolle's theorem, the mean value theorem, and L'Hôpital's rule\n",
    "\n",
    "\n",
    "### Rolle's Theorem\n",
    "- [Brehm](https://youtu.be/xG7V6x8HSXg?list=PLl-gb0E4MII34fmpCdgzu2hWQPJWmQ78n)"
   ]
  },
  {
   "cell_type": "markdown",
   "metadata": {},
   "source": [
    "## Use the derivative to solve rectilinear motion, related rate, and optimization problems\n",
    "\n",
    "\n",
    "### rectilinear motion\n",
    "\n",
    "- [Brehm](https://youtu.be/fZj7VhywNmE?list=PLl-gb0E4MII34fmpCdgzu2hWQPJWmQ78n)\n",
    "\n",
    "### related rates\n",
    "- [Brehm](https://youtu.be/2s7SOe3tSKI?list=PLl-gb0E4MII34fmpCdgzu2hWQPJWmQ78n)\n",
    "\n",
    "### optimization problems\n",
    "\n"
   ]
  },
  {
   "cell_type": "markdown",
   "metadata": {},
   "source": [
    "\n",
    "## Use the derivative to analyze functions and planar curves (e.g., maxima, minima, inflection points, concavity)\n",
    "\n",
    "### maxima\n",
    "\n",
    "### minima\n",
    "\n",
    "### inflection points\n",
    "\n",
    "### concavity\n"
   ]
  },
  {
   "cell_type": "markdown",
   "metadata": {},
   "source": [
    "## Solve separable first-order differential equations and apply them to growth and decay problems"
   ]
  },
  {
   "cell_type": "code",
   "execution_count": null,
   "metadata": {},
   "outputs": [],
   "source": []
  }
 ],
 "metadata": {
  "language_info": {
   "name": "python"
  }
 },
 "nbformat": 4,
 "nbformat_minor": 2
}
