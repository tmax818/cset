{
 "cells": [
  {
   "cell_type": "markdown",
   "metadata": {},
   "source": [
    "# Integrals and Applications (SMR 5.4)\n",
    "\n",
    "## Derive definite integrals of standard algebraic functions using the formal definition of integral\n",
    "\n",
    "## Interpret the concept of a definite integral geometrically, numerically, and analytically (e.g., limit of Riemann sums)\n",
    "\n",
    "## Prove the fundamental theorem of calculus, and use it to interpret definite integrals as antiderivatives\n",
    "\n",
    "## Apply the concept of integrals to compute the length of curves and the areas and volumes of geometric figures"
   ]
  }
 ],
 "metadata": {
  "language_info": {
   "name": "python"
  }
 },
 "nbformat": 4,
 "nbformat_minor": 2
}
