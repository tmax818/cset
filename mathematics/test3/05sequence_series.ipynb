{
 "cells": [
  {
   "cell_type": "markdown",
   "metadata": {},
   "source": [
    "# Sequences and Series\n",
    "\n",
    "## Derive and apply the formulas for the sums of finite arithmetic series and finite and infinite geometric series (e.g., express repeating decimals as a rational number)\n",
    "\n",
    "## Determine convergence of a given sequence or series using standard techniques (e.g., ratio, comparison, integral tests)\n",
    "\n",
    "## Calculate Taylor series and Taylor polynomials of basic functions"
   ]
  }
 ],
 "metadata": {
  "language_info": {
   "name": "python"
  }
 },
 "nbformat": 4,
 "nbformat_minor": 2
}
