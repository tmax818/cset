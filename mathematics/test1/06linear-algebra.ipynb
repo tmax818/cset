{
 "cells": [
  {
   "cell_type": "markdown",
   "metadata": {},
   "source": [
    "# Linear Algebra"
   ]
  },
  {
   "cell_type": "markdown",
   "metadata": {},
   "source": [
    "## Understand and apply the geometric interpretation and basic operations of [vectors](https://www.mathsisfun.com/algebra/vectors.html) in two and three dimensions, including their scalar multiples"
   ]
  },
  {
   "cell_type": "markdown",
   "metadata": {},
   "source": [
    "## Prove the basic properties of vectors (e.g., perpendicular vectors have zero [dot product](https://www.mathsisfun.com/algebra/vectors-dot-product.html))"
   ]
  },
  {
   "cell_type": "markdown",
   "metadata": {},
   "source": [
    "## c. Understand and apply the basic properties and operations of [matrices](https://www.mathsisfun.com/algebra/matrix-introduction.html) and [determinants](https://www.mathsisfun.com/algebra/matrix-determinant.html) (e.g., to determine the solvability of linear systems of equations)"
   ]
  },
  {
   "cell_type": "markdown",
   "metadata": {},
   "source": [
    "## Analyze the properties of proportional relationships, lines, linear equations, and their graphs, and the connections between them"
   ]
  },
  {
   "cell_type": "markdown",
   "metadata": {},
   "source": [
    "\n",
    "## Model and solve problems using linear equations, pairs of simultaneous linear equations, and their graphs"
   ]
  },
  {
   "cell_type": "markdown",
   "metadata": {},
   "source": []
  },
  {
   "cell_type": "markdown",
   "metadata": {},
   "source": []
  },
  {
   "cell_type": "markdown",
   "metadata": {},
   "source": []
  },
  {
   "cell_type": "markdown",
   "metadata": {},
   "source": []
  },
  {
   "cell_type": "markdown",
   "metadata": {},
   "source": []
  },
  {
   "cell_type": "markdown",
   "metadata": {},
   "source": []
  }
 ],
 "metadata": {
  "language_info": {
   "name": "python"
  }
 },
 "nbformat": 4,
 "nbformat_minor": 2
}
