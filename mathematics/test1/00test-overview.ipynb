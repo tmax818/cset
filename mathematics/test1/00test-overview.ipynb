{
 "cells": [
  {
   "cell_type": "markdown",
   "metadata": {},
   "source": [
    "# CSET Subtest 1"
   ]
  },
  {
   "cell_type": "markdown",
   "metadata": {},
   "source": [
    "# Number and Quantity:\n",
    "\n",
    ">Candidates demonstrate an understanding of number theory and a command of number sense as\n",
    "outlined in the California Common Core Content Standards for Mathematics (Grade 6, Grade 7,\n",
    "Grade 8, and High School). Candidates demonstrate a depth and breadth of conceptual knowledge to\n",
    "ensure a rigorous view of number systems and their underlying structures. They prove and use\n",
    "properties of natural numbers. They formulate conjectures about the natural numbers using inductive\n",
    "reasoning and verify conjectures with proofs."
   ]
  }
 ],
 "metadata": {
  "language_info": {
   "name": "python"
  }
 },
 "nbformat": 4,
 "nbformat_minor": 2
}
