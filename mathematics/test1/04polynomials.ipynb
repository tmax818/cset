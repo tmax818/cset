{
 "cells": [
  {
   "cell_type": "markdown",
   "metadata": {},
   "source": [
    "# Polynomial Equations and Inequalities "
   ]
  },
  {
   "cell_type": "markdown",
   "metadata": {},
   "source": [
    "## Analyze and solve polynomial equations with real coefficients using:\n",
    "\n",
    "### the [Fundamental Theorem of Algebra](https://www.mathsisfun.com/algebra/fundamental-theorem-algebra.html)\n",
    "\n",
    ">Any polynomial of degree n has n roots but we may need to use complex numbers\n",
    "\n",
    "### the [Rational Root Theorem](https://en.wikipedia.org/wiki/Rational_root_theorem) for polynomials with integer coefficients\n",
    "\n",
    "- algebra 2 lesson 23\n",
    "\n",
    "### the [Conjugate Root Theorem](https://en.wikipedia.org/wiki/Complex_conjugate_root_theorem) for polynomial equations with real coefficients\n",
    "\n",
    "### the [Binomial Theorem](https://mathsisfun.com/algebra/binomial-theorem.html)\n"
   ]
  },
  {
   "cell_type": "markdown",
   "metadata": {},
   "source": [
    "## Prove and use the [Factor Theorem](https://www.mathsisfun.com/algebra/polynomials-remainder-factor.html) and the quadratic formula for real and complex quadratic polynomials"
   ]
  },
  {
   "cell_type": "markdown",
   "metadata": {},
   "source": [
    "## Solve polynomial inequalities"
   ]
  }
 ],
 "metadata": {
  "language_info": {
   "name": "python"
  }
 },
 "nbformat": 4,
 "nbformat_minor": 2
}
