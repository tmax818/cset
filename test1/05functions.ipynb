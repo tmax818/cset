{
 "cells": [
  {
   "cell_type": "markdown",
   "metadata": {},
   "source": [
    "# Functions"
   ]
  },
  {
   "cell_type": "markdown",
   "metadata": {},
   "source": [
    "## Analyze general properties of functions (i.e., domain and range, one-to-one, onto, inverses, composition, and differences between relations and functions) and apply arithmetic operations on functions"
   ]
  },
  {
   "cell_type": "markdown",
   "metadata": {},
   "source": [
    "## Analyze properties of linear functions (e.g., slope, intercepts) using a variety of representations"
   ]
  },
  {
   "cell_type": "markdown",
   "metadata": {},
   "source": [
    "## Demonstrate knowledge of why graphs of linear inequalities are half planes and be able to apply this fact\n",
    "\n",
    "[long answer](https://search.brave.com/search?q=why+graphs+of+linear+inequalities+are+half+planes&source=desktop&summary=1&summary_og=eyJ0aXRsZSI6IldoeSBncmFwaHMgb2YgbGluZWFyIGluZXF1YWxpdGllcyBhcmUgaGFsZiBwbGFuZXMiLCJkZXNjcmlwdGlvbiI6IldoZW4gZ3JhcGhpbmcgYSBsaW5lYXIgaW5lcXVhbGl0eSwgYSBzdHJhaWdodCBsaW5lIGlzIGRyYXduIHRocm91Z2ggdGhlIHBsYW5lLCBkaXZpZGluZyBpdCBpbnRvIHR3byBoYWx2ZXMuIEVhY2ggb2YgdGhlc2UgaGFsdmVzIGlzIGNhbGxlZCBhIGhhbGYtcGxhbmUuIFRoaXMgaXMgYmVjYXVzZSB0aGUgaW5lcXVhbGl0eSBpcyBhIGNvbmRpdGlvbiB04oCmIiwiaW1hZ2UiOnsic3JjIjoiaHR0cHM6Ly9jZG4uc2VhcmNoLmJyYXZlLmNvbS9zZXJwL29nLzAwNGI5MzYwNDhkZTI0YWRmYjBkMGMucG5nIiwid2lkdGgiOjQ4NCwiaGVpZ2h0Ijo1MDF9fQ%3D%3D&sig=66aa5c872f2564a2532cde9bf0e81324cedfaa4156198e69869a5409b18d32e3&nonce=5635e55c2592f1421da7e3eb1c4f2f23)\n",
    "\n",
    "In summary, graphs of linear inequalities are half-planes because the inequality divides the plane into two halves, with the boundary line representing the boundary between the points that satisfy the inequality and those that do not."
   ]
  },
  {
   "cell_type": "markdown",
   "metadata": {},
   "source": [
    "## Analyze properties of polynomial, rational, radical, and absolute value functions in a variety of ways (e.g., graphing, solving problems)"
   ]
  },
  {
   "cell_type": "markdown",
   "metadata": {},
   "source": [
    "## Analyze properties of exponential and logarithmic functions in a variety of ways (e.g., graphing, solving problems)\n",
    "\n"
   ]
  },
  {
   "cell_type": "markdown",
   "metadata": {},
   "source": [
    "## Model and solve problems using nonlinear functions"
   ]
  },
  {
   "cell_type": "markdown",
   "metadata": {},
   "source": []
  },
  {
   "cell_type": "markdown",
   "metadata": {},
   "source": []
  },
  {
   "cell_type": "markdown",
   "metadata": {},
   "source": []
  },
  {
   "cell_type": "markdown",
   "metadata": {},
   "source": []
  }
 ],
 "metadata": {
  "language_info": {
   "name": "python"
  }
 },
 "nbformat": 4,
 "nbformat_minor": 2
}
