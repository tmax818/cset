{
 "cells": [
  {
   "cell_type": "markdown",
   "metadata": {},
   "source": [
    "# The Real and Complex Number System"
   ]
  },
  {
   "cell_type": "markdown",
   "metadata": {},
   "source": [
    "## Demonstrate knowledge of the properties of the real number system and of its subsets\n",
    "\n",
    "### [Properties](https://www.mathsisfun.com/sets/real-number-properties.html) of the real numbers\n",
    "  - [Commutative, Associative, and Distributive](https://www.mathsisfun.com/associative-commutative-distributive.html)\n",
    "\n",
    "#### commutative:\n",
    "\n",
    "- $ \\forall a,b \\in \\mathbb{R} (a + b) = (b + a)$\n",
    "- $ \\forall a,b \\in \\mathbb{R} (a \\times b) = (b \\times a)$\n",
    "\n",
    "|![](./images/add-comm.png) |![](./images/mult-comm.png)\n",
    "|---|---|\n",
    "\n",
    "#### associative:\n",
    "\n",
    "- $ \\forall a,b,c \\in \\mathbb{R} (a + b)+ c = a + (b + c)$\n",
    "- $ \\forall a,b,c \\in \\mathbb{R} (a \\times b)\\times c = a \\times (b \\times c)$\n",
    "\n",
    "|![](./images/add-associative.png) |![](./images/mult-associative.png)\n",
    "|---|---|\n",
    "\n",
    "### subsets of the real numbers\n",
    "\n",
    "![](./images/real-number-subsets.png)\n",
    "\n"
   ]
  },
  {
   "cell_type": "markdown",
   "metadata": {},
   "source": [
    "## Perform [operations](https://www.mathsisfun.com/numbers/basic-operations.html) and recognize equivalent expressions using various representations of [real numbers](https://www.mathsisfun.com/numbers/real-numbers.html) (e.g., fractions, decimals, exponents)\n",
    "\n",
    "\n",
    "### [operations](https://www.mathsisfun.com/numbers/basic-operations.html)\n",
    "\n",
    "#### Addition and Multiplication\n",
    "\n",
    "- **Addition** says how many steps to take.\n",
    "  - **Subtraction** is the [inverse](https://www.mathsisfun.com/numbers/inverse.html) of addition. \n",
    "- **Multiplication** says how many adds to do.\n",
    "  - **Division** is the [inverse](https://www.mathsisfun.com/numbers/inverse.html) of multiplication. \n",
    "- **Exponents** says how many multiplies\n",
    "  - **Logarithm** is the [inverse](https://www.mathsisfun.com/numbers/inverse.html) of exponents\n",
    "\n",
    "### [real numbers](https://www.mathsisfun.com/numbers/real-numbers.html)\n",
    "\n",
    "Real numbers became 'real' after the discovery of *imaginary* numbers.\n",
    "\n",
    "The Real Number Line is like a geometric line.\n",
    "\n",
    "![](./images/real-number-line.png)\n",
    "\n",
    "- signs on the number line represent direction\n",
    "- any point on the line can be:\n",
    "  - whole\n",
    "  - rational\n",
    "  - irrational like $\\pi$ or $e$\n",
    "\n"
   ]
  },
  {
   "cell_type": "markdown",
   "metadata": {},
   "source": [
    "## Solve real-world and mathematical problems using numerical and algebraic [expressions](https://www.mathsisfun.com/definitions/expression.html) and [equations](https://www.mathsisfun.com/algebra/equation-formula.html)\n",
    "\n",
    "### [equations](https://www.mathsisfun.com/algebra/equation-formula.html)\n",
    "\n",
    ">An equation says that two things are equal. It will have an equals sign \"=\"\n",
    "\n",
    "![](./images/equation.png)\n",
    "\n",
    "\n",
    "### [expressions](https://www.mathsisfun.com/definitions/expression.html)\n",
    "\n",
    "> Numbers, symbols and operators (such as + and ×) grouped together that show the value of something.\n",
    "\n",
    "![](./images/expression.png)"
   ]
  },
  {
   "cell_type": "markdown",
   "metadata": {},
   "source": [
    "## Apply [proportional](https://www.mathsisfun.com/definitions/proportional.html) relationships to model and solve real-world and mathematical problems\n",
    "\n",
    "\n",
    "[proportion](https://www.mathsisfun.com/algebra/proportions.html) says that two ratios(fractions) are equal.\n",
    "\n",
    "A [ratio](https://www.mathsisfun.com/numbers/ratio.html) says how much of one thing there is compared to another thing.\n",
    "\n",
    "![](./images/ratio.png)\n",
    "\n",
    "the above ratio can be expressed as:\n",
    "\n",
    "$$3:1$$\n",
    "$$3 to 1$$\n",
    "$$\\frac{3}{1}$$\n",
    "\n",
    ">The trick with ratios is to always multiply or divide the numbers by the same value."
   ]
  },
  {
   "cell_type": "markdown",
   "metadata": {},
   "source": [
    "## Reason quantitatively and use [units](https://www.mathsisfun.com/measure/index.html) to solve problems (i.e., dimensional analysis)"
   ]
  },
  {
   "cell_type": "markdown",
   "metadata": {},
   "source": [
    "## Perform operations on [complex numbers](https://www.mathsisfun.com/numbers/complex-numbers.html) and represent complex numbers and their operations on the [complex plane](https://www.mathsisfun.com/algebra/complex-plane.html)\n",
    "\n",
    "\n",
    "### [complex numbers](https://www.mathsisfun.com/numbers/complex-numbers.html)\n",
    "\n",
    ">A Complex Number is a combination of a Real Number and an [Imaginary Number](https://www.mathsisfun.com/numbers/imaginary-numbers.html)\n",
    "\n",
    "![](./images/complex-number.png)\n",
    "\n",
    "[imaginary numbers](https://www.mathsisfun.com/numbers/imaginary-numbers.html)\n",
    "\n",
    ">An Imaginary Number, when squared, gives a negative result\n",
    "\n",
    "$$i \\times i = -1$$\n",
    "$$i^2 = -1$$\n",
    "\n",
    "An imaginary number \"cycles through 4 values\n",
    "\n",
    "\n",
    "\n",
    "$$ i^0 = 1$$\n",
    "$$ i^1 = i$$\n",
    "$$ i^2 = -1$$\n",
    "$$ i^3 = -i$$\n",
    "\n"
   ]
  },
  {
   "cell_type": "markdown",
   "metadata": {},
   "source": []
  }
 ],
 "metadata": {
  "kernelspec": {
   "display_name": "base",
   "language": "python",
   "name": "python3"
  },
  "language_info": {
   "codemirror_mode": {
    "name": "ipython",
    "version": 3
   },
   "file_extension": ".py",
   "mimetype": "text/x-python",
   "name": "python",
   "nbconvert_exporter": "python",
   "pygments_lexer": "ipython3",
   "version": "3.11.5"
  }
 },
 "nbformat": 4,
 "nbformat_minor": 2
}
