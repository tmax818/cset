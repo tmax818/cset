{
 "cells": [
  {
   "cell_type": "markdown",
   "metadata": {},
   "source": [
    "# Number Theory"
   ]
  },
  {
   "cell_type": "markdown",
   "metadata": {},
   "source": [
    "## Prove and use basic properties of natural numbers (e.g., [properties of divisibility](https://www.math-only-math.com/properties-of-divisibility.html))\n",
    "\n",
    "### [Properties of Natural Numbers](https://www.cuemath.com/numbers/properties-of-natural-numbers/)\n",
    "\n",
    "- Closure Property \n",
    "  - for addition and multiplication result in a natural number\n",
    "    - $ \\forall a,b \\in \\mathbb{N} (a + b) \\in \\mathbb{N}$\n",
    "    - $ \\forall a,b \\in \\mathbb{N} (a \\times b) \\in \\mathbb{N}$\n",
    "\n",
    "- Associative Property\n",
    "    - $ \\forall a,b,c \\in \\mathbb{N} (a + b)+ c = a + (b + c)$\n",
    "    - $ \\forall a,b,c \\in \\mathbb{N} (a \\times b)\\times c = a \\times (b \\times c)$\n",
    "- Commutative Property\n",
    "    - $ \\forall a,b \\in \\mathbb{N} (a + b) = (b + a)$\n",
    "    - $ \\forall a,b \\in \\mathbb{N} (a \\times b) = (b \\times a)$\n",
    "- Distributive Property"
   ]
  },
  {
   "cell_type": "markdown",
   "metadata": {},
   "source": [
    "## Use the principle of [mathematical induction](https://www.mathsisfun.com/algebra/mathematical-induction.html) to prove results in number theory"
   ]
  },
  {
   "cell_type": "markdown",
   "metadata": {},
   "source": [
    "## Apply the [Euclidean Algorithm](https://www.mathsisfun.com/numbers/euclidean-algo.html)\n",
    "\n",
    "\n",
    ">The **Euclidean Algorithm** is a special way to find the [Greatest Common Factor]() of two integers.\n",
    "\n",
    "> The **Greatest Common Factor** is the highest number that divides exactly into two or more numbers.\n",
    "\n",
    "\n",
    "The algorithm:\n",
    "\n",
    "- calculate $\\frac{a}{b} = n R r$\n",
    "- set $a=b$ and $b=r$\n",
    "- repeat until $r=0$\n",
    "- the last value of $b$ is the $GCF$\n"
   ]
  },
  {
   "cell_type": "markdown",
   "metadata": {},
   "source": [
    "## Apply the [Fundamental Theorem of Arithmetic](https://www.mathsisfun.com/numbers/fundamental-theorem-arithmetic.html) (e.g., find the [greatest common factor](https://www.mathsisfun.com/definitions/greatest-common-factor.html) and the [least common multiple](https://www.mathsisfun.com/least-common-multiple.html); show that every fraction is equivalent to a unique fraction where the numerator and denominator are [relatively prime](https://www.mathsisfun.com/definitions/coprime.html); prove that the square root of any number, not a perfect square number, is irrational)\n",
    "\n",
    "\n",
    "### [Fundamental Theorem of Arithmetic](https://www.mathsisfun.com/numbers/fundamental-theorem-arithmetic.html) \n",
    "\n",
    ">Any integer greater than 1 is either a prime number, or can be written as a unique product of prime numbers (ignoring the order).\n",
    "\n",
    "### [greatest common factor](https://www.mathsisfun.com/greatest-common-factor.html) \n",
    "\n",
    "> The highest number that divides exactly into two or more numbers.\n",
    "\n",
    "### [least common multiple](https://www.mathsisfun.com/least-common-multiple.html)\n",
    "\n",
    "> The smallest positive number that is a multiple of two or more numbers."
   ]
  },
  {
   "cell_type": "markdown",
   "metadata": {},
   "source": []
  },
  {
   "cell_type": "markdown",
   "metadata": {},
   "source": []
  },
  {
   "cell_type": "markdown",
   "metadata": {},
   "source": []
  },
  {
   "cell_type": "markdown",
   "metadata": {},
   "source": []
  }
 ],
 "metadata": {
  "language_info": {
   "name": "python"
  }
 },
 "nbformat": 4,
 "nbformat_minor": 2
}
